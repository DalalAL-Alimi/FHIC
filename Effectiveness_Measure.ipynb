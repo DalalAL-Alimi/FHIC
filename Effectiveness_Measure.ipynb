{
  "nbformat": 4,
  "nbformat_minor": 0,
  "metadata": {
    "colab": {
      "provenance": []
    },
    "kernelspec": {
      "name": "python3",
      "display_name": "Python 3"
    },
    "language_info": {
      "name": "python"
    }
  },
  "cells": [
    {
      "cell_type": "markdown",
      "source": [
        "#### The effectiveness measure is an easy and quick measure to evaluate the models’ efficacy and compare them quickly. Here, we deal with the accuracy and time as numbers in this measurement and ignore their units. To make the comparison as reasonable as possible, we must first scale the comparison’s parameters."
      ],
      "metadata": {
        "id": "Fxur5u37qhcF"
      }
    },
    {
      "cell_type": "markdown",
      "source": [
        "### (1)\n",
        "#### The accuracy values are scaled using the following equation:\n",
        "  \n",
        "  A (%) = ($x_i/\\sum\\limits_{i=1}^{i} x_i$) x 100\n",
        "\n",
        "* where $x$ is the model accuracy and\n",
        "\n",
        "* $i$ is the model’s number."
      ],
      "metadata": {
        "id": "9-MMukQXqsS8"
      }
    },
    {
      "cell_type": "code",
      "source": [
        "ka = [32.95, 44.42, 48.84, 81.79, 84.63, 60.51, 89.71, 95.69, 98.63] #models' accuracy\n",
        "\n",
        "s = sum(ka)\n",
        "ratios = []\n",
        "\n",
        "for i in range(len(ka)):\n",
        "    ratio = ka[i] / s\n",
        "    # print(acc[i])\n",
        "    ratios.append(ratio*100)\n",
        "\n",
        "print('A = ', ratios) # ==A\n"
      ],
      "metadata": {
        "colab": {
          "base_uri": "https://localhost:8080/"
        },
        "id": "iXC8XLERy7Vk",
        "outputId": "a64c1ee1-0315-4bf1-f5b6-5ffc0d18c9cc"
      },
      "execution_count": 1,
      "outputs": [
        {
          "output_type": "stream",
          "name": "stdout",
          "text": [
            "A =  [5.171304361473391, 6.97145188882088, 7.665144309995764, 12.836448671469155, 13.28216959367202, 9.496680634681482, 14.07944504606306, 15.017970086476137, 15.479385407348117]\n"
          ]
        }
      ]
    },
    {
      "cell_type": "markdown",
      "source": [
        "### (2)\n",
        "#### After that, because the execution time should be short and the accuracy should be high, the relationship between them is reciprocal, so the following equation accomplishes this relationship:\n",
        "\n",
        "  $t_i$ = $1/T_i$\n",
        "\n",
        "* where $t$ is the reciprocal relationship of the execution time $T$.\n",
        "\n"
      ],
      "metadata": {
        "id": "ZgtNTT9ItFh1"
      }
    },
    {
      "cell_type": "code",
      "source": [
        "t = [0.28, 0.52,\t0.61, 0.73, 0.55, 0.8, 1.02, 0.56, 0.54]\n",
        "vt = []\n",
        "for j in range(len(t)):\n",
        "    ratio = 1/t[j]\n",
        "    # print(acc[i])\n",
        "    vt.append(ratio)\n",
        "\n",
        "print('t_i = ',vt)"
      ],
      "metadata": {
        "colab": {
          "base_uri": "https://localhost:8080/"
        },
        "id": "h7zcmzx9zx8x",
        "outputId": "ba0c1eed-647e-4fbe-868e-8b42ade71430"
      },
      "execution_count": 2,
      "outputs": [
        {
          "output_type": "stream",
          "name": "stdout",
          "text": [
            "t_i =  [3.571428571428571, 1.923076923076923, 1.639344262295082, 1.36986301369863, 1.8181818181818181, 1.25, 0.9803921568627451, 1.7857142857142856, 1.8518518518518516]\n"
          ]
        }
      ]
    },
    {
      "cell_type": "markdown",
      "source": [
        "#### Now the scaling time can be taken as follows:\n",
        "\n",
        "  B (%)= ($t_i/\\sum\\limits_{i=1}^{i} t_i$) x 100\n",
        "\n"
      ],
      "metadata": {
        "id": "Kbk1bE5qt5-0"
      }
    },
    {
      "cell_type": "code",
      "source": [
        "s_vt = sum(vt)\n",
        "t_ratios = []\n",
        "\n",
        "for i in range(len(vt)):\n",
        "    ratio = vt[i] / s_vt\n",
        "    t_ratios.append(ratio*100)\n",
        "\n",
        "print('B = ',t_ratios)\n"
      ],
      "metadata": {
        "colab": {
          "base_uri": "https://localhost:8080/"
        },
        "id": "raWxXAfE2mJV",
        "outputId": "ef8542aa-1344-4620-f10a-abeec5cd2030"
      },
      "execution_count": 3,
      "outputs": [
        {
          "output_type": "stream",
          "name": "stdout",
          "text": [
            "B =  [22.059672791433886, 11.878285349233632, 10.125751445248344, 8.461244358358204, 11.230378875639072, 7.720885477001861, 6.055596452550479, 11.029836395716943, 11.438348854817573]\n"
          ]
        }
      ]
    },
    {
      "cell_type": "markdown",
      "source": [
        "### (3)\n",
        "#### Finally, after scaling the accuracy values and time, the percent of linear combination can be calculated for A and B as follows:\n",
        "\n",
        "$P = (α×A)+(γ×B)$,\n",
        "\n",
        " where  $α+γ \\approx\\ 100%$"
      ],
      "metadata": {
        "id": "HJQny0vjukTE"
      }
    },
    {
      "cell_type": "markdown",
      "source": [
        "where $P$ represents the standard measurement evaluation between the models according to their accuracy $A$ and time $B$ , $α$ is the significance coefficient for accuracy, $γ$ is the significance coefficient for time, and $α$ and $γ$ values are between $zero$ and $one$."
      ],
      "metadata": {
        "id": "cxvE2Rfdx3K2"
      }
    },
    {
      "cell_type": "code",
      "source": [
        "a = 0.7   # == α\n",
        "y = 1- a   # == γ\n",
        "p = []\n",
        "for i in range(len(ka)):\n",
        "    pi = (a * ratios[i]) + (y * t_ratios[i])\n",
        "    # print(pi[i])\n",
        "    p.append(pi)\n",
        "\n",
        "print('P = ', p)\n",
        "print(sum(p))"
      ],
      "metadata": {
        "id": "ylqNUty15QL0",
        "colab": {
          "base_uri": "https://localhost:8080/"
        },
        "outputId": "105d47d2-44ab-463f-e077-2193c82fd6ce"
      },
      "execution_count": 4,
      "outputs": [
        {
          "output_type": "stream",
          "name": "stdout",
          "text": [
            "P =  [10.23781489046154, 8.443501926944705, 8.403326450571539, 11.52388737753587, 12.666632378262136, 8.963942087377596, 11.672290468009287, 13.821529979248378, 14.267074441588953]\n",
            "100.0\n"
          ]
        }
      ]
    },
    {
      "cell_type": "code",
      "source": [
        "import matplotlib.pyplot as plt\n",
        "import seaborn as sns\n",
        "\n",
        "\n",
        "\n",
        "s_p = sum(p)\n",
        "p_ratios = []\n",
        "\n",
        "\n",
        "sns.set()\n",
        "\n",
        "p_ratios = [ratio/s_p * 100 for ratio in p]\n",
        "\n",
        "palette = sns.color_palette(\"crest\", len(p_ratios))  #tab20c, tab20b, crest, mako\n",
        "bars = plt.bar(range(len(p_ratios)), p_ratios, color=palette)\n",
        "\n",
        "# Plotting the p_ratios\n",
        "plt.bar(range(len(p_ratios)), p_ratios, color=palette)\n",
        "plt.xlabel('Models')\n",
        "plt.ylabel('P values')\n",
        "plt.title(f'Percentage of Performance Between Models when $α$ = {a:.2f} and $γ$ = {y:.2f}')\n",
        "\n",
        "# Annotate each bar with its value\n",
        "for bar in bars:\n",
        "    yval = bar.get_height()\n",
        "    plt.text(bar.get_x() + bar.get_width()/2, yval + 0.2, round(yval, 2), ha='center', va='bottom')  # Adjust 0.2 if needed to position the label appropriately\n",
        "\n",
        "plt.show()\n"
      ],
      "metadata": {
        "colab": {
          "base_uri": "https://localhost:8080/",
          "height": 482
        },
        "id": "1bnGMDPovSJu",
        "outputId": "6585507e-24ff-4b27-e2ae-ec519044660e"
      },
      "execution_count": 5,
      "outputs": [
        {
          "output_type": "display_data",
          "data": {
            "text/plain": [
              "<Figure size 640x480 with 1 Axes>"
            ],
            "image/png": "[encoded data removed]"
          },
          "metadata": {}
        }
      ]
    },
    {
      "cell_type": "markdown",
      "source": [
        "## Citation\n",
        "### We would appreciate a citation to the original paper if you use this code in your research works.\n",
        "```\n",
        "{\n",
        "  @ARTICLE{10253958,\n",
        "  author={Al-Alimi, Dalal and Cai, Zhihua and Al-qaness, Mohammed A. A.},\n",
        "  journal={IEEE Transactions on Geoscience and Remote Sensing},\n",
        "  title={FHIC: Fast Hyperspectral Image Classification Model Using ETR Dimensionality Reduction and ELU Activation Function},\n",
        "  year={2023},\n",
        "  volume={61},\n",
        "  number={},\n",
        "  pages={1-17},\n",
        "  doi={10.1109/TGRS.2023.3314619}}\n",
        "}\n",
        "```"
      ],
      "metadata": {
        "id": "TfgHGLyjhMVs"
      }
    },
    {
      "cell_type": "code",
      "source": [],
      "metadata": {
        "id": "qao272JudXpv"
      },
      "execution_count": 5,
      "outputs": []
    }
  ]
}